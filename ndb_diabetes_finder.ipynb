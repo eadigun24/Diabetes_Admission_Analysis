{
 "cells": [
  {
   "cell_type": "code",
   "execution_count": 2,
   "metadata": {},
   "outputs": [],
   "source": [
    "#M13D03A03\n",
    "import pandas as pd\n",
    "from sklearn.model_selection import train_test_split\n",
    "from sklearn.metrics import accuracy_score\n",
    "from sklearn.preprocessing import OneHotEncoder\n",
    "from sklearn.preprocessing import StandardScaler\n",
    "from sklearn.cluster import KMeans\n",
    "from sklearn.linear_model import LogisticRegression\n",
    "from sklearn.svm import SVR\n",
    "from sklearn.neighbors import KNeighborsClassifier\n",
    "from sklearn.tree import DecisionTreeClassifier\n",
    "from sklearn.ensemble import RandomForestClassifier\n",
    "from sklearn.ensemble import AdaBoostRegressor\n",
    "\n",
    "#M14D03A02\n",
    "import warnings\n",
    "warnings.filterwarnings(\"ignore\")"
   ]
  },
  {
   "cell_type": "markdown",
   "metadata": {},
   "source": [
    "<summary> Data details\n",
    "<details>\n",
    "\n",
    "### --- Main element --- \n",
    "Diabetes_012\n",
    "\n",
    "---\n",
    "### --- Binary elements ---\n",
    "HighBP  \n",
    "HighChol  \n",
    "CholCheck  \n",
    "Smoker  \n",
    "Stroke  \n",
    "HeartDiseaseorAttack  \n",
    "PhysActivity  \n",
    "Fruits  \n",
    "Veggies  \n",
    "HvyAlcoholConsump  \n",
    "AnyHealthcare  \n",
    "NoDocbcCost  \n",
    "DiffWalk  \n",
    "Sex &rarr; (0 = female, 1 = male)\n",
    "  \n",
    "---\n",
    "### --- Integer Elements ---\n",
    "BMI - 12-98\n",
    "  \n",
    "GenHlth (Self reported value)  \n",
    "&emsp;1 = excellent  \n",
    "&emsp;2 = very good  \n",
    "&emsp;3 = good  \n",
    "&emsp;4 = fair  \n",
    "&emsp;5 = poor  \n",
    "  \n",
    "MentHlth - Mental Health // # of \"not good days\" in the last 30   \n",
    "  \n",
    "PhysHlth - Physical Health // # of \"not good days\" in the last 30  \n",
    "   \n",
    "Age [1-13] - (filled in using CDC <a href=\"https://www.cdc.gov/nchs/data/statnt/statnt20.pdf\" target=\"_blank\">Master List</a>, grouping 18-19, 20-24) [* indicated field given with origional data]  \n",
    "&emsp;1 = 18-24 *  \n",
    "&emsp;2 - 25-29  \n",
    "&emsp;3 - 30-34  \n",
    "&emsp;4 - 35-39  \n",
    "&emsp;5 - 40-44  \n",
    "&emsp;6 - 45-49  \n",
    "&emsp;7 - 50-54  \n",
    "&emsp;8 - 55-59  \n",
    "&emsp;9 - 60-64 *  \n",
    "&emsp;10- 65-69  \n",
    "&emsp;11- 70-74  \n",
    "&emsp;12- 75-79  \n",
    "&emsp;13- 80 or older *  \n",
    "  \n",
    "Education [1-6]  \n",
    "&emsp;1 = Never attended school or only kindergarten  \n",
    "&emsp;2 = Grades 1 through 8 (Elementary)  \n",
    "&emsp;3 = Grades 9 through 11 (Some high school)  \n",
    "&emsp;4 = Grade 12 or GED (High school graduate)  \n",
    "&emsp;5 = College 1 year to 3 years (Some college or technical school)  \n",
    "&emsp;6 = College 4 years or more (College graduate) \n",
    "  \n",
    "Income [1-8]  \n",
    "&emsp;1 = less than $10,000  \n",
    "&emsp;5 = less than $35,000  \n",
    "&emsp;8 = $75,000 or more  \n",
    "\n",
    "[https://www.markdownguide.org/hacks/#:~:text=Basically%2C%20every%20in%20your,sentence%20of%20my%20indented%20paragraph.]:#\n"
   ]
  },
  {
   "cell_type": "markdown",
   "metadata": {},
   "source": [
    "# Clustering check  (KMEans)  --------------------------------------------------"
   ]
  },
  {
   "cell_type": "code",
   "execution_count": 39,
   "metadata": {},
   "outputs": [],
   "source": [
    "# M11D01A05\n",
    "\n",
    "# Inputs : df, [0, 1], cluster_max_range\n",
    "# Set all random states to 1\n",
    "#2nd input, 0 = no elbo plot, 1 = return elbow plot\n",
    "# returns the best # of clusters \n",
    "\n",
    "def kmeans_cluster_check(df, plot, cluster_max_range):\n",
    "    \"\"\"\n",
    "    Retures most probably # of Clusters, using KMeans.\n",
    "\n",
    "    :param df: Dataframe to be used for KMeanse check.\n",
    "    :param plot: [0 = No Elbow Plot]  [1 = Return Elbow Plot].\n",
    "    :param cluster_max_range: Max value to be used for KMeanse run.\n",
    "    :return: The highest % change key (not value) in a cluster check as an integer.\n",
    "    \"\"\" \n",
    "    inertia_values = []\n",
    "    k_values = list(range(1,11))\n",
    "    for k in k_values:\n",
    "        model = KMeans(n_clusters=k, n_init='auto', random_state=1)\n",
    "        model.fit(df)\n",
    "        inertia_values.append(model.inertia_)\n",
    "    # display(inertia_values)\n",
    "\n",
    "    if plot == 1:\n",
    "        elbow_data = {\"k\": k_values, \"inertia\": inertia_values}\n",
    "        df_elbow = pd.DataFrame(elbow_data)\n",
    "        df_elbow.plot.line(\n",
    "            x=\"k\",\n",
    "            y=\"inertia\",\n",
    "            xticks=k_values\n",
    "        )\n",
    "\n",
    "    #M11D01A04\n",
    "    delta={}\n",
    "    delta_numbers = k_values\n",
    "    delta_values = inertia_values\n",
    "    for d in range(1, len(inertia_values)):\n",
    "        percentage_decrease = (delta_values[d-1] - delta_values[d]) / delta_values[d-1] * 100\n",
    "        # print(f\"Percentage decrease from k={delta_numbers[d-1]} to k={delta_numbers[d]}: {percentage_decrease:.2f}%\")\n",
    "        delta.update({d:percentage_decrease})\n",
    "    # print(delta)\n",
    "    return max(delta, key=delta.get)+1\n",
    "\n",
    "### Application element - modle / fit / predict / append / Splitting used df into clusters\n",
    "# cluster_model = KMeans(n_clusters=2, n_init='auto', random_state=23)\n",
    "# cluster_model.fit(df_used)\n",
    "# cluster = cluster_model.predict(df_used)\n",
    "# df_used[\"cluster\"] = cluster\n",
    "# df_0 = df_used[df_used[\"cluster\"] == 0]\n",
    "# df_1 = df_used[df_used[\"cluster\"] == 1]"
   ]
  },
  {
   "cell_type": "markdown",
   "metadata": {},
   "source": [
    "# Logistic Regression ----------------------------------------------------------"
   ]
  },
  {
   "cell_type": "code",
   "execution_count": 31,
   "metadata": {},
   "outputs": [],
   "source": [
    "def lr_run(data, iteration, random_st):\n",
    "    \"\"\"\n",
    "    Performs Logistic Regression on Dataframe. Using the solvers of \n",
    "    'saga', 'sag', 'newton-cholesky', 'newton-cg', 'liblinear', and 'lbfgs'\n",
    "\n",
    "    :param data: Dataframe to be used for KMeanse check.\n",
    "    :param iteration: Max iteration for the Logistic Regresion model.\n",
    "    :param random_st: Random State for the Logistic Regresion model.\n",
    "    :return: Will cycle through the solver types and returning the closest Test/Train match.\n",
    "    \"\"\" \n",
    "    X_train, X_test, y_train, y_test = data\n",
    "    #lr_solver_types = ['lbfgs', 'liblinear', 'newton-cg', 'newton-cholesky', 'sag', 'saga']\n",
    "    lr_solver_types = ['saga', 'sag', 'newton-cholesky', 'newton-cg', 'liblinear', 'lbfgs']    \n",
    "    # lbfgs = default\n",
    "    lr_threshold = 0\n",
    "    print(\"Start LR Run\")\n",
    "    for solvers in lr_solver_types:\n",
    "        #print(f\"----{solvers}-----\")\n",
    "        lr_model = LogisticRegression(max_iter=iteration, random_state=random_st, solver=solvers)\n",
    "        lr_model.fit(X_train, y_train)\n",
    "        train = lr_model.score(X_train, y_train)\n",
    "        test = lr_model.score(X_test, y_test)\n",
    "        if lr_threshold == 0:\n",
    "            lr_threshold = abs(test-train)\n",
    "            preferred_lr_solver = solvers\n",
    "            run_test = test\n",
    "            run_train = train\n",
    "            #print(\"initial\")\n",
    "        if lr_threshold > abs(test-train):\n",
    "            preferred_lr_solver = solvers\n",
    "            run_train = train\n",
    "            run_test = test\n",
    "            #print(\"improving threshold\")\n",
    "        #else:\n",
    "            #print(\"Leaving threshold alone\")\n",
    "    display(f\"-------- Logistic Regression // Solver : {preferred_lr_solver} --------\")\n",
    "    print('Train Accuracy: %.3f' % run_train)\n",
    "    print('Test Accuracy: %.3f' % run_test)\n",
    "    print(\"--------------------------------------------------------------------------\")\n",
    "\n",
    "\n",
    "\n"
   ]
  },
  {
   "cell_type": "markdown",
   "metadata": {},
   "source": [
    "# Support Vector Machine ------------------------------------------------------"
   ]
  },
  {
   "cell_type": "code",
   "execution_count": 32,
   "metadata": {},
   "outputs": [],
   "source": [
    "### Get clusters from K-Means, and ron on them individually\n",
    "# Rebuild with scaled data - relavent with binary data?\n",
    "\n",
    "\n",
    "svm_kernel_types = ['linear', 'poly', 'rbf', 'sigmoid']\n",
    "#rbf = default\n",
    "# \"precomputed\" removed from list\n",
    "\n",
    "svm_model = SVR(kernel='poly')\n",
    "# svm_model.fit(X_train, y_train)\n",
    "# print('Train Accuracy: %.3f' % svm_model.score(X_train, y_train))\n",
    "# print('Test Accuracy: %.3f' % svm_model.score(X_test, y_test))"
   ]
  },
  {
   "cell_type": "markdown",
   "metadata": {},
   "source": [
    "# K Nearest Neighbor -----------------------------------------------------------"
   ]
  },
  {
   "cell_type": "code",
   "execution_count": 33,
   "metadata": {},
   "outputs": [],
   "source": [
    "#M13D02A01,02\n",
    "# https://scikit-learn.org/stable/modules/generated/sklearn.neighbors.KNeighborsClassifier.html\n",
    "\n",
    "# Switch to appended list?\n",
    "\n",
    "\n",
    "def knn_run(data):\n",
    "    \"\"\"\n",
    "    Performs K Nearest Neighbor analysis on Dataframe, using the neighbor counts of 5, 7, 9, and 11. \n",
    "\n",
    "    :param data: Dataframe to be used for KMeanse check.\n",
    "    :return: Will cycle through the neighbor counts and returns the closest Test/Train match.\n",
    "    \"\"\" \n",
    "    X_train, X_test, y_train, y_test = data\n",
    "    knn_number_of_neighbors = [5, 7, 9, 11]\n",
    "    knn_threshold = 0\n",
    "    print(\"Start KNN Run\")\n",
    "    for n_o_ns in knn_number_of_neighbors:\n",
    "        # print(f\"---- #{n_o_ns}-----\")\n",
    "        knn_model = KNeighborsClassifier(n_neighbors = n_o_ns)\n",
    "        knn_model.fit(X_train, y_train)\n",
    "        train = knn_model.score(X_train, y_train)\n",
    "        test = knn_model.score(X_test, y_test)\n",
    "        if knn_threshold == 0:\n",
    "            lr_threshold = abs(test-train)\n",
    "            preferred_knn_number = n_o_ns\n",
    "            run_test = test\n",
    "            run_train = train\n",
    "            # print(\"initial\")\n",
    "        if knn_threshold > abs(test-train):\n",
    "            preferred_knn_number = n_o_ns\n",
    "            run_train = train\n",
    "            run_test = test\n",
    "            # print(\"improving threshold\")\n",
    "        #else:\n",
    "            # print(\"Leaving threshold alone\")\n",
    "    display(f\"--------K Nearest Neighbors Run // Number {preferred_knn_number} --------\")\n",
    "    print('Train Accuracy: %.3f' % run_train)\n",
    "    print('Test Accuracy: %.3f' % run_test)\n",
    "    print(\"--------------------------------------------------------------------------\")\n"
   ]
  },
  {
   "cell_type": "markdown",
   "metadata": {},
   "source": [
    "# Random Forest ----------------------------------------------------------------"
   ]
  },
  {
   "cell_type": "code",
   "execution_count": 34,
   "metadata": {},
   "outputs": [],
   "source": [
    "# M14D03A02\n",
    "# https://scikit-learn.org/stable/modules/generated/sklearn.model_selection.GridSearchCV.html\n",
    "\n",
    "def rf_run(data):\n",
    "    \"\"\"\n",
    "    Performs Random Forest analysis on Dataframe, using GridSearchCV. \n",
    "        \"n_estimators\": [100, 150, 200],  \n",
    "        \"max_depth\" : [3, 5],  \n",
    "        \"random_state\": [1]  \n",
    "\n",
    "    :param data: Dataframe to be used for KMeanse check.\n",
    "    :return: Will cycle through the Grid and return the closest Test/Train match.\n",
    "    \"\"\" \n",
    "    print(\"Starting RF run\")\n",
    "    X_train, X_test, y_train, y_test = data\n",
    "    from sklearn.model_selection import GridSearchCV\n",
    "    rf_grid_model = RandomForestClassifier()\n",
    "    rf_search_grid = {\n",
    "        \"n_estimators\": [100, 150, 200],\n",
    "        \"max_depth\" : [3, 5],\n",
    "        \"random_state\": [1]\n",
    "    }\n",
    "    grid_rf_run = GridSearchCV(rf_grid_model, rf_search_grid, verbose=0)\n",
    "    grid_rf_run.fit(X_train, y_train)\n",
    "    print(f\"------- Randome Forest Run // Parameters : {grid_rf_run.best_params_}\")\n",
    "    print('Train Accuracy: %.3f' % grid_rf_run.best_estimator_.score(X_train, y_train))\n",
    "    print('Test Accuracy: %.3f' % grid_rf_run.best_estimator_.score(X_test, y_test))\n",
    "    print(\"--------------------------------------------------------------------------\")\n",
    "\n",
    "\n"
   ]
  },
  {
   "cell_type": "markdown",
   "metadata": {},
   "source": [
    "# Main Run ---------------------------------------------------------------------"
   ]
  },
  {
   "cell_type": "code",
   "execution_count": 3,
   "metadata": {},
   "outputs": [],
   "source": [
    "# https://archive.ics.uci.edu/dataset/891/cdc+diabetes+health+indicators\n",
    "\n",
    "file_path_01 = \"diabetes_012_health_indicators_BRFSS2015.csv\"\n",
    "file_path_02 = \"diabetes_binary_health_indicators_BRFSS2015.csv\"\n",
    "file_path_03 = \"diabetes_binary_5050split_health_indicators_BRFSS2015.csv\"\n",
    "\n",
    "file_path_used = file_path_03\n",
    "\n",
    "df = pd.read_csv(file_path_used)\n",
    "# for col in df.columns:\n",
    "#     display(df[col].value_counts())\n",
    "\n",
    "# Data processing elements : M13D03A02 // Unnneeded\n"
   ]
  },
  {
   "cell_type": "markdown",
   "metadata": {},
   "source": [
    "# Data Switches ----------------------------------------------------------------"
   ]
  },
  {
   "cell_type": "code",
   "execution_count": 24,
   "metadata": {},
   "outputs": [
    {
     "data": {
      "text/html": [
       "<div>\n",
       "<style scoped>\n",
       "    .dataframe tbody tr th:only-of-type {\n",
       "        vertical-align: middle;\n",
       "    }\n",
       "\n",
       "    .dataframe tbody tr th {\n",
       "        vertical-align: top;\n",
       "    }\n",
       "\n",
       "    .dataframe thead th {\n",
       "        text-align: right;\n",
       "    }\n",
       "</style>\n",
       "<table border=\"1\" class=\"dataframe\">\n",
       "  <thead>\n",
       "    <tr style=\"text-align: right;\">\n",
       "      <th></th>\n",
       "      <th>Diabetes_binary</th>\n",
       "      <th>HighBP</th>\n",
       "      <th>BMI</th>\n",
       "      <th>Smoker</th>\n",
       "      <th>Stroke</th>\n",
       "      <th>HeartDiseaseorAttack</th>\n",
       "      <th>PhysActivity</th>\n",
       "      <th>HvyAlcoholConsump</th>\n",
       "      <th>GenHlth</th>\n",
       "      <th>MentHlth</th>\n",
       "      <th>PhysHlth</th>\n",
       "      <th>DiffWalk</th>\n",
       "      <th>Sex</th>\n",
       "      <th>Age</th>\n",
       "    </tr>\n",
       "  </thead>\n",
       "  <tbody>\n",
       "    <tr>\n",
       "      <th>0</th>\n",
       "      <td>0.0</td>\n",
       "      <td>1.0</td>\n",
       "      <td>26.0</td>\n",
       "      <td>0.0</td>\n",
       "      <td>0.0</td>\n",
       "      <td>0.0</td>\n",
       "      <td>1.0</td>\n",
       "      <td>0.0</td>\n",
       "      <td>3.0</td>\n",
       "      <td>5.0</td>\n",
       "      <td>30.0</td>\n",
       "      <td>0.0</td>\n",
       "      <td>1.0</td>\n",
       "      <td>4.0</td>\n",
       "    </tr>\n",
       "    <tr>\n",
       "      <th>1</th>\n",
       "      <td>0.0</td>\n",
       "      <td>1.0</td>\n",
       "      <td>26.0</td>\n",
       "      <td>1.0</td>\n",
       "      <td>1.0</td>\n",
       "      <td>0.0</td>\n",
       "      <td>0.0</td>\n",
       "      <td>0.0</td>\n",
       "      <td>3.0</td>\n",
       "      <td>0.0</td>\n",
       "      <td>0.0</td>\n",
       "      <td>0.0</td>\n",
       "      <td>1.0</td>\n",
       "      <td>12.0</td>\n",
       "    </tr>\n",
       "    <tr>\n",
       "      <th>2</th>\n",
       "      <td>0.0</td>\n",
       "      <td>0.0</td>\n",
       "      <td>26.0</td>\n",
       "      <td>0.0</td>\n",
       "      <td>0.0</td>\n",
       "      <td>0.0</td>\n",
       "      <td>1.0</td>\n",
       "      <td>0.0</td>\n",
       "      <td>1.0</td>\n",
       "      <td>0.0</td>\n",
       "      <td>10.0</td>\n",
       "      <td>0.0</td>\n",
       "      <td>1.0</td>\n",
       "      <td>13.0</td>\n",
       "    </tr>\n",
       "    <tr>\n",
       "      <th>3</th>\n",
       "      <td>0.0</td>\n",
       "      <td>1.0</td>\n",
       "      <td>28.0</td>\n",
       "      <td>1.0</td>\n",
       "      <td>0.0</td>\n",
       "      <td>0.0</td>\n",
       "      <td>1.0</td>\n",
       "      <td>0.0</td>\n",
       "      <td>3.0</td>\n",
       "      <td>0.0</td>\n",
       "      <td>3.0</td>\n",
       "      <td>0.0</td>\n",
       "      <td>1.0</td>\n",
       "      <td>11.0</td>\n",
       "    </tr>\n",
       "    <tr>\n",
       "      <th>4</th>\n",
       "      <td>0.0</td>\n",
       "      <td>0.0</td>\n",
       "      <td>29.0</td>\n",
       "      <td>1.0</td>\n",
       "      <td>0.0</td>\n",
       "      <td>0.0</td>\n",
       "      <td>1.0</td>\n",
       "      <td>0.0</td>\n",
       "      <td>2.0</td>\n",
       "      <td>0.0</td>\n",
       "      <td>0.0</td>\n",
       "      <td>0.0</td>\n",
       "      <td>0.0</td>\n",
       "      <td>8.0</td>\n",
       "    </tr>\n",
       "  </tbody>\n",
       "</table>\n",
       "</div>"
      ],
      "text/plain": [
       "   Diabetes_binary  HighBP   BMI  Smoker  Stroke  HeartDiseaseorAttack  \\\n",
       "0              0.0     1.0  26.0     0.0     0.0                   0.0   \n",
       "1              0.0     1.0  26.0     1.0     1.0                   0.0   \n",
       "2              0.0     0.0  26.0     0.0     0.0                   0.0   \n",
       "3              0.0     1.0  28.0     1.0     0.0                   0.0   \n",
       "4              0.0     0.0  29.0     1.0     0.0                   0.0   \n",
       "\n",
       "   PhysActivity  HvyAlcoholConsump  GenHlth  MentHlth  PhysHlth  DiffWalk  \\\n",
       "0           1.0                0.0      3.0       5.0      30.0       0.0   \n",
       "1           0.0                0.0      3.0       0.0       0.0       0.0   \n",
       "2           1.0                0.0      1.0       0.0      10.0       0.0   \n",
       "3           1.0                0.0      3.0       0.0       3.0       0.0   \n",
       "4           1.0                0.0      2.0       0.0       0.0       0.0   \n",
       "\n",
       "   Sex   Age  \n",
       "0  1.0   4.0  \n",
       "1  1.0  12.0  \n",
       "2  1.0  13.0  \n",
       "3  1.0  11.0  \n",
       "4  0.0   8.0  "
      ]
     },
     "execution_count": 24,
     "metadata": {},
     "output_type": "execute_result"
    }
   ],
   "source": [
    "df_used = df.copy()\n",
    "\n",
    "\n",
    "# df_used = df_used.drop(columns=\"Sex\")\n",
    "# df_used = df_used.drop(columns=\"Age\")\n",
    "\n",
    "# Results in 61% / 58%  62% -----------------------------------\n",
    "# df_used = df_used.drop(columns=\"HighBP\")\n",
    "# df_used = df_used.drop(columns=\"BMI\")\n",
    "# df_used = df_used.drop(columns=\"Smoker\")\n",
    "# df_used = df_used.drop(columns=\"Stroke\")\n",
    "# df_used = df_used.drop(columns=\"HeartDiseaseorAttack\")\n",
    "# df_used = df_used.drop(columns=\"DiffWalk\")\n",
    "\n",
    "\n",
    "# Results in 72% -----------------------------------\n",
    "# df_used = df_used.drop(columns=\"HvyAlcoholConsump\")\n",
    "# df_used = df_used.drop(columns=\"PhysActivity\")\n",
    "# df_used = df_used.drop(columns=\"GenHlth\")\n",
    "# df_used = df_used.drop(columns=\"MentHlth\")\n",
    "# df_used = df_used.drop(columns=\"PhysHlth\")\n",
    "\n",
    "# Results in 74% -----------------------------------\n",
    "df_used = df_used.drop(columns=\"Education\")\n",
    "df_used = df_used.drop(columns=\"Income\")\n",
    "\n",
    "df_used = df_used.drop(columns=\"AnyHealthcare\")\n",
    "df_used = df_used.drop(columns=\"NoDocbcCost\")\n",
    "\n",
    "df_used = df_used.drop(columns=\"Fruits\")\n",
    "df_used = df_used.drop(columns=\"Veggies\")\n",
    "\n",
    "# Results in 74% -----------------------------------------------\n",
    "df_used = df_used.drop(columns=\"CholCheck\")\n",
    "df_used = df_used.drop(columns=\"HighChol\")\n",
    "\n",
    "df_used.head()"
   ]
  },
  {
   "cell_type": "markdown",
   "metadata": {},
   "source": [
    "# Splitting Clusters -----------------------------------------------------------"
   ]
  },
  {
   "cell_type": "code",
   "execution_count": 147,
   "metadata": {},
   "outputs": [
    {
     "data": {
      "text/plain": [
       "2"
      ]
     },
     "execution_count": 147,
     "metadata": {},
     "output_type": "execute_result"
    }
   ],
   "source": [
    "kmeans_cluster_check(df_used, 0, 5)"
   ]
  },
  {
   "cell_type": "code",
   "execution_count": 40,
   "metadata": {},
   "outputs": [],
   "source": [
    "cluster_model = KMeans(n_clusters=2, n_init='auto', random_state=23)\n",
    "cluster_model.fit(df_used)\n",
    "cluster = cluster_model.predict(df_used)\n",
    "df_used[\"cluster\"] = cluster\n",
    "df_0 = df_used[df_used[\"cluster\"] == 0]\n",
    "df_1 = df_used[df_used[\"cluster\"] == 1]\n",
    "# df_1\n",
    "\n",
    "### Simulations run on seperate clusters (8/24/24), with no decernable change to final prediction values.\n",
    "### Clusters left intact, but disconnected in the next step to allow the origional df_used to pass through to the final simulation."
   ]
  },
  {
   "cell_type": "code",
   "execution_count": 36,
   "metadata": {},
   "outputs": [],
   "source": [
    "# df_used = df_0"
   ]
  },
  {
   "cell_type": "markdown",
   "metadata": {},
   "source": [
    "# Split ------------------------------------------------------------------------"
   ]
  },
  {
   "cell_type": "code",
   "execution_count": 41,
   "metadata": {},
   "outputs": [],
   "source": [
    "if file_path_used == file_path_01:\n",
    "    y = df_used[\"Diabetes_012\"]\n",
    "    X = df_used.copy().drop(columns=\"Diabetes_012\")\n",
    "else:\n",
    "    y = df_used[\"Diabetes_binary\"]\n",
    "    X = df_used.copy().drop(columns=\"Diabetes_binary\")\n",
    "\n",
    "X_train, X_test, y_train, y_test = train_test_split(X, y, random_state=23)\n",
    "X_train, X_test, y_train, y_test = train_test_split(X, y, random_state=23)\n",
    "\n",
    "# data = [X_train, X_test, y_train, y_test]\n",
    "\n",
    "scaler = StandardScaler().fit(X_train)\n",
    "X_train_scaled = scaler.transform(X_train)\n",
    "X_test_scaled = scaler.transform(X_test)\n",
    "\n",
    "\n",
    "data = [X_train_scaled, X_test_scaled, y_train, y_test]\n",
    "\n"
   ]
  },
  {
   "cell_type": "markdown",
   "metadata": {},
   "source": [
    "# AdaBoost - (Not included) ---------------------------------------------------- "
   ]
  },
  {
   "cell_type": "code",
   "execution_count": 7,
   "metadata": {},
   "outputs": [
    {
     "name": "stdout",
     "output_type": "stream",
     "text": [
      "Starting Ada run\n",
      "Train Accuracy: 0.745\n",
      "Test Accuracy: -0.163\n"
     ]
    }
   ],
   "source": [
    "# https://scikit-learn.org/stable/modules/generated/sklearn.ensemble.AdaBoostRegressor.html\n",
    "\n",
    "print(\"Starting Ada run\")\n",
    "X_train, X_test, y_train, y_test = data\n",
    "from sklearn.model_selection import GridSearchCV\n",
    "\n",
    "ada_sub_rf_model = RandomForestClassifier()\n",
    "ada_grid_model = AdaBoostRegressor(estimator=ada_sub_rf_model)\n",
    "ada_search_grid = {\n",
    "    #\"estimator\": \"sklearn.tree.RandomForestClassifier\",\n",
    "    \"n_estimators\": [50], # [100, 150, 200]\n",
    "    \"random_state\": [1],\n",
    "    \"learning_rate\": [0.1, 1.0] # [0.01, 0.1, 1.0]\n",
    "}\n",
    "grid_ada_run = GridSearchCV(ada_grid_model, ada_search_grid, verbose=0, cv=2)\n",
    "grid_ada_run.fit(X_train, y_train)\n",
    "\n",
    "grid_ada_run_best = grid_ada_run.best_estimator_\n",
    "\n",
    "print('Train Accuracy: %.3f' % grid_ada_run.score(X_train, y_train))\n",
    "print('Test Accuracy: %.3f' % grid_ada_run.score(X_test, y_test))\n",
    "#  M13D03A04 -- defining the general function"
   ]
  },
  {
   "cell_type": "markdown",
   "metadata": {},
   "source": [
    "# Analysis ---------------------------------------------------------------------"
   ]
  },
  {
   "cell_type": "code",
   "execution_count": 38,
   "metadata": {},
   "outputs": [
    {
     "name": "stdout",
     "output_type": "stream",
     "text": [
      "Start LR Run\n"
     ]
    },
    {
     "data": {
      "text/plain": [
       "'-------- Logistic Regression // Solver : saga --------'"
      ]
     },
     "metadata": {},
     "output_type": "display_data"
    },
    {
     "name": "stdout",
     "output_type": "stream",
     "text": [
      "Train Accuracy: 0.739\n",
      "Test Accuracy: 0.744\n",
      "--------------------------------------------------------------------------\n",
      "Start KNN Run\n"
     ]
    },
    {
     "data": {
      "text/plain": [
       "'--------K Nearest Neighbors Run // Number 11 --------'"
      ]
     },
     "metadata": {},
     "output_type": "display_data"
    },
    {
     "name": "stdout",
     "output_type": "stream",
     "text": [
      "Train Accuracy: 0.766\n",
      "Test Accuracy: 0.723\n",
      "--------------------------------------------------------------------------\n",
      "Starting RF run\n",
      "------- Randome Forest Run // Parameters : {'max_depth': 5, 'n_estimators': 150, 'random_state': 1}\n",
      "Train Accuracy: 0.738\n",
      "Test Accuracy: 0.740\n",
      "--------------------------------------------------------------------------\n"
     ]
    }
   ],
   "source": [
    "lr_run(data, 200, 23)\n",
    "# aprox. 2 min\n",
    "knn_run(data)\n",
    "# aprox. 3 min\n",
    "rf_run(data)\n",
    "# aprox. 3 min"
   ]
  },
  {
   "cell_type": "code",
   "execution_count": null,
   "metadata": {},
   "outputs": [],
   "source": [
    "### Model 1 // 6min 31sec\n",
    "# Start LR Run\n",
    "# '-------- Logistic Regression // Solver : liblinear --------'\n",
    "# Train Accuracy: 0.846\n",
    "# Test Accuracy: 0.847\n",
    "# (w/o chart)\n",
    "#   Train Accuracy: 0.846\n",
    "#   Test Accuracy: 0.847\n",
    "# (w/o chart, Cholesterol)\n",
    "#   Train Accuracy: 0.845\n",
    "#   Test Accuracy: 0.846\n",
    "# --------------------------------------------------------------------------\n",
    "# Start KNN Run\n",
    "# '--------K Nearest Neighbors Run // Number 11 --------'\n",
    "# Train Accuracy: 0.857\n",
    "# Test Accuracy: 0.841\n",
    "# (w/o chart)\n",
    "#   Train Accuracy: 0.856\n",
    "#   Test Accuracy: 0.841\n",
    "# (w/o chart, Cholesterol)\n",
    "#   Train Accuracy: 0.856\n",
    "#   Test Accuracy: 0.841\n",
    "# --------------------------------------------------------------------------\n",
    "# Starting RF run\n",
    "# ------- Randome Forest Run // Parameters : {'max_depth': 5, 'n_estimators': 150, 'random_state': 1}\n",
    "# Train Accuracy: 0.844\n",
    "# Test Accuracy: 0.845\n",
    "# (w/o chart, estimators @ 200)\n",
    "#   Train Accuracy: 0.844\n",
    "#   Test Accuracy: 0.845\n",
    "# (w/o chart, Cholesterol)\n",
    "#   Train Accuracy: 0.844\n",
    "#   Test Accuracy: 0.845\n",
    "# --------------------------------------------------------------------------\n"
   ]
  },
  {
   "cell_type": "code",
   "execution_count": null,
   "metadata": {},
   "outputs": [],
   "source": [
    "### Model 2 // 6min 4sec\n",
    "# Start LR Run\n",
    "# '-------- Logistic Regression // Solver : saga --------'\n",
    "# Train Accuracy: 0.863\n",
    "# Test Accuracy: 0.865\n",
    "# --------------------------------------------------------------------------\n",
    "# Start KNN Run\n",
    "# '--------K Nearest Neighbors Run // Number 11 --------'\n",
    "# Train Accuracy: 0.873\n",
    "# Test Accuracy: 0.858\n",
    "# --------------------------------------------------------------------------\n",
    "# Starting RF run\n",
    "# ------- Randome Forest Run // Parameters : {'max_depth': 5, 'n_estimators': 150, 'random_state': 1}\n",
    "# Train Accuracy: 0.861\n",
    "# Test Accuracy: 0.862\n",
    "# --------------------------------------------------------------------------"
   ]
  },
  {
   "cell_type": "code",
   "execution_count": null,
   "metadata": {},
   "outputs": [],
   "source": [
    "### Model 3 // 1min 4sec\n",
    "# Start LR Run\n",
    "# '-------- Logistic Regression // Solver : lbfgs --------'\n",
    "# Train Accuracy: 0.747\n",
    "# Test Accuracy: 0.749\n",
    "# --------------------------------------------------------------------------\n",
    "# Start KNN Run\n",
    "# '--------K Nearest Neighbors Run // Number 11 --------'\n",
    "# Train Accuracy: 0.765\n",
    "# Test Accuracy: 0.722\n",
    "# --------------------------------------------------------------------------\n",
    "# Starting RF run\n",
    "# ------- Randome Forest Run // Parameters : {'max_depth': 5, 'n_estimators': 200, 'random_state': 1}\n",
    "# Train Accuracy: 0.744\n",
    "# Test Accuracy: 0.743\n",
    "# --------------------------------------------------------------------------"
   ]
  },
  {
   "cell_type": "code",
   "execution_count": null,
   "metadata": {},
   "outputs": [],
   "source": [
    "#  M13D03A04 -- defining the general function"
   ]
  }
 ],
 "metadata": {
  "kernelspec": {
   "display_name": "dev",
   "language": "python",
   "name": "python3"
  },
  "language_info": {
   "codemirror_mode": {
    "name": "ipython",
    "version": 3
   },
   "file_extension": ".py",
   "mimetype": "text/x-python",
   "name": "python",
   "nbconvert_exporter": "python",
   "pygments_lexer": "ipython3",
   "version": "3.10.14"
  }
 },
 "nbformat": 4,
 "nbformat_minor": 2
}
